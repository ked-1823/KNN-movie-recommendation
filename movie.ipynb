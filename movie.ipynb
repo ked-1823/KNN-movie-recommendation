{
  "nbformat": 4,
  "nbformat_minor": 0,
  "metadata": {
    "colab": {
      "provenance": []
    },
    "kernelspec": {
      "name": "python3",
      "display_name": "Python 3"
    },
    "language_info": {
      "name": "python"
    }
  },
  "cells": [
    {
      "cell_type": "code",
      "execution_count": 33,
      "metadata": {
        "colab": {
          "base_uri": "https://localhost:8080/"
        },
        "id": "ebF04iprofY8",
        "outputId": "d9639bb5-3a88-4e6b-a494-1d516de73a99"
      },
      "outputs": [
        {
          "output_type": "stream",
          "name": "stdout",
          "text": [
            "types of genre: ['action,adventure,fantasy,science fiction', 'adventure,fantasy,action', 'adventure,crime', 'thriller,horror,comedy', 'foreign,thriller', 'comedy,drama,romance,tv movie']\n",
            "enter genre :comedy\n",
            "popularity from (0-875)\n",
            "enter popuarity: 150\n",
            "predicted movie title: Brave\n"
          ]
        }
      ],
      "source": [
        "import pandas as pd\n",
        "from sklearn.neighbors import KNeighborsClassifier\n",
        "from sklearn.preprocessing import LabelEncoder\n",
        "from sklearn.model_selection import train_test_split\n",
        "import ast\n",
        "\n",
        "\n",
        "df=pd.read_csv('tmdb_5000_movies.csv')\n",
        "\n",
        "def extract_genre_names(genres_str):\n",
        "    try:\n",
        "        genres_list = ast.literal_eval(genres_str)\n",
        "        genre_names = [genre['name'] for genre in genres_list]\n",
        "        return ','.join(genre_names)\n",
        "    except:\n",
        "        return ''\n",
        "\n",
        "df['genres_clean'] = df['genres'].apply(extract_genre_names)\n",
        "df['genres_clean'] = df['genres_clean'].str.lower()\n",
        "unique=df['genres'].unique()\n",
        "unique_lang=df['original_language'].unique()\n",
        "df.head()\n",
        "label=LabelEncoder()\n",
        "df['encoded genres']=label.fit_transform(df['genres_clean'])\n",
        "label2=LabelEncoder()\n",
        "df['encoded title']=label2.fit_transform(df['title'])\n",
        "x=df[['encoded genres','popularity']]\n",
        "y=df['encoded title']\n",
        "x_train,x_test,y_train,y_test=train_test_split(x,y,test_size=0.2)\n",
        "model=KNeighborsClassifier(n_neighbors=3)\n",
        "model.fit(x_train,y_train)\n",
        "all_genre = [\n",
        "    'action,adventure,fantasy,science fiction',\n",
        "    'adventure,fantasy,action',\n",
        "    'adventure,crime',\n",
        "    'thriller,horror,comedy',\n",
        "    'foreign,thriller',\n",
        "    'comedy,drama,romance,tv movie'\n",
        "]\n",
        "print('types of genre:',all_genre)\n",
        "users_genre=input('enter genre :')\n",
        "print('popularity from (0-875)')\n",
        "users_pop=float(input('enter popuarity: '))\n",
        "users_genre_enc=label.transform([users_genre])[0]\n",
        "feature=pd.DataFrame([[users_genre_enc,users_pop]],columns=['encoded genres', 'popularity'])\n",
        "title_enc=model.predict(feature)[0]\n",
        "title=label2.inverse_transform([title_enc])[0]\n",
        "print(f'predicted movie title: {title}')\n",
        "\n",
        "#print(unique)\n"
      ]
    },
    {
      "cell_type": "code",
      "source": [
        "top_popularities = df['popularity'].nlargest(5)\n",
        "print(top_popularities)\n"
      ],
      "metadata": {
        "colab": {
          "base_uri": "https://localhost:8080/"
        },
        "id": "4c2vEcdioxmL",
        "outputId": "343df9e4-601e-433c-849c-0492bc379928"
      },
      "execution_count": 12,
      "outputs": [
        {
          "output_type": "stream",
          "name": "stdout",
          "text": [
            "546    875.581305\n",
            "95     724.247784\n",
            "788    514.569956\n",
            "94     481.098624\n",
            "127    434.278564\n",
            "Name: popularity, dtype: float64\n"
          ]
        }
      ]
    },
    {
      "cell_type": "code",
      "source": [
        "unique_genres=df['genres_clean'].unique()\n",
        "print(unique_genres)"
      ],
      "metadata": {
        "colab": {
          "base_uri": "https://localhost:8080/"
        },
        "id": "GLZCGNElsXrB",
        "outputId": "23b1a63e-d723-4b5e-b7bd-64d5ce268240"
      },
      "execution_count": 13,
      "outputs": [
        {
          "output_type": "stream",
          "name": "stdout",
          "text": [
            "['action,adventure,fantasy,science fiction' 'adventure,fantasy,action'\n",
            " 'action,adventure,crime' ... 'thriller,horror,comedy' 'foreign,thriller'\n",
            " 'comedy,drama,romance,tv movie']\n"
          ]
        }
      ]
    },
    {
      "cell_type": "code",
      "source": [
        "import numpy as np\n",
        "\n",
        "# Create DataFrame for prediction\n",
        "feature = pd.DataFrame([[users_genre_enc, users_pop]],\n",
        "                       columns=['encoded genres', 'popularity'])\n",
        "\n",
        "# Predict label (encoded title)\n",
        "predicted_label = model.predict(feature)[0]\n",
        "\n",
        "# Find the position (index) of this label in model.classes_\n",
        "predicted_class_pos = np.where(model.classes_ == predicted_label)[0][0]\n",
        "\n",
        "# Get probability for that position\n",
        "predicted_class_prob = model.predict_proba(feature)[0][predicted_class_pos] * 100\n",
        "\n",
        "# Decode movie title\n",
        "predicted_title = label2.inverse_transform([predicted_label])[0]\n",
        "\n",
        "print(f\"Predicted movie: {predicted_title}\")\n",
        "print(f\"Confidence: {predicted_class_prob:.2f}%\")\n"
      ],
      "metadata": {
        "colab": {
          "base_uri": "https://localhost:8080/"
        },
        "id": "4TW_eqARu6r-",
        "outputId": "a076832e-0d81-4728-aea8-48f693421ddf"
      },
      "execution_count": 35,
      "outputs": [
        {
          "output_type": "stream",
          "name": "stdout",
          "text": [
            "Predicted movie: Brave\n",
            "Confidence: 33.33%\n"
          ]
        }
      ]
    }
  ]
}